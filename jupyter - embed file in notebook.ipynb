{
 "cells": [
  {
   "cell_type": "markdown",
   "metadata": {},
   "source": [
    "# Use base64 encoding to embed a file into the notebook"
   ]
  },
  {
   "cell_type": "code",
   "execution_count": 1,
   "metadata": {},
   "outputs": [],
   "source": [
    "import base64\n",
    "import numpy as np\n",
    "import pandas as pd\n",
    "from IPython.core.display import display, HTML"
   ]
  },
  {
   "cell_type": "code",
   "execution_count": 2,
   "metadata": {},
   "outputs": [
    {
     "name": "stdout",
     "output_type": "stream",
     "text": [
      "     A    B    C    D    E    F\n",
      "G  103  436  861  271  107   72\n",
      "H  701   21  615  122  467  215\n",
      "I  331  459   88  373  100  872\n",
      "J  664  131  662  309  770  344\n",
      "K  492  414  806  386  192  956\n",
      "L  277  161  460  314   22  253\n"
     ]
    }
   ],
   "source": [
    "# Create random(ish) data.\n",
    "rng = np.random.RandomState(42)\n",
    "values = rng.randint(1, 1000, size=(6, 6))\n",
    "data = pd.DataFrame(values, columns=list(\"ABCDEF\"), index=list(\"GHIJKL\"))\n",
    "print(data)"
   ]
  },
  {
   "cell_type": "code",
   "execution_count": 3,
   "metadata": {},
   "outputs": [
    {
     "data": {
      "text/html": [
       "<a target='_blank' href='data:text/csv;base64,LEEsQixDLEQsRSxGCkcsMTAzLDQzNiw4NjEsMjcxLDEwNyw3MgpILDcwMSwyMSw2MTUsMTIyLDQ2NywyMTUKSSwzMzEsNDU5LDg4LDM3MywxMDAsODcyCkosNjY0LDEzMSw2NjIsMzA5LDc3MCwzNDQKSyw0OTIsNDE0LDgwNiwzODYsMTkyLDk1NgpMLDI3NywxNjEsNDYwLDMxNCwyMiwyNTMK'>Download File</a>"
      ],
      "text/plain": [
       "<IPython.core.display.HTML object>"
      ]
     },
     "metadata": {},
     "output_type": "display_data"
    }
   ],
   "source": [
    "# Get the CSV data as a string.\n",
    "csv = data.to_csv()\n",
    "# Encode it into base64 (note that we convert to bytes for the encoding, \n",
    "# then back again afterwards).\n",
    "encoded_csv = base64.urlsafe_b64encode(csv.encode(\"utf-8\")).decode(\"utf-8\")\n",
    "# Add the encoded string to a link with the appropriate MIME type.\n",
    "link = \"<a target='_blank' href='data:text/csv;base64,{}'>Download File</a>\".format(encoded_csv)\n",
    "# Display the link.\n",
    "display(HTML(link))"
   ]
  }
 ],
 "metadata": {
  "kernelspec": {
   "display_name": "Python 3",
   "language": "python",
   "name": "python3"
  },
  "language_info": {
   "codemirror_mode": {
    "name": "ipython",
    "version": 3
   },
   "file_extension": ".py",
   "mimetype": "text/x-python",
   "name": "python",
   "nbconvert_exporter": "python",
   "pygments_lexer": "ipython3",
   "version": "3.6.1"
  }
 },
 "nbformat": 4,
 "nbformat_minor": 2
}
